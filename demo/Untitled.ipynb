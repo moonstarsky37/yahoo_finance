{
 "cells": [
  {
   "cell_type": "code",
   "execution_count": 1,
   "id": "2721c43f-5949-4988-b862-b8e5458802eb",
   "metadata": {},
   "outputs": [],
   "source": [
    "import pandas as pd"
   ]
  },
  {
   "cell_type": "code",
   "execution_count": 2,
   "id": "c7e06af3-1c3d-4f50-9e94-b7460d5ce69c",
   "metadata": {},
   "outputs": [
    {
     "data": {
      "text/plain": [
       "[                        0                            1           2       3  \\\n",
       " 0      ¦³»ùÃÒ¨é¥N¸¹¤Î¦WºÙ  °ê»ÚÃÒ¨é¿ëÃÑ¸¹½X(ISIN Code)      ¤W¥«¤é  ¥«³õ§O   \n",
       " 1                    ªÑ²¼                         ªÑ²¼        ªÑ²¼    ªÑ²¼   \n",
       " 2              1101¡@¥xªd                 TW0001101004  1962/02/09    ¤W¥«   \n",
       " 3              1102¡@¨Èªd                 TW0001102002  1962/06/08    ¤W¥«   \n",
       " 4              1103¡@¹Åªd                 TW0001103000  1969/11/14    ¤W¥«   \n",
       " ...                   ...                          ...         ...     ...   \n",
       " 25781  01003T¡@¥üÂ×·s¥úR1                 TW00001003T4  2005/12/26    ¤W¥«   \n",
       " 25782  01004T¡@¤g»È´I¨¹R2                 TW00001004T2  2006/04/13    ¤W¥«   \n",
       " 25783  01007T¡@¥üÂ×°ê®õR2                 TW00001007T5  2006/10/13    ¤W¥«   \n",
       " 25784  01009T¡@¤ý¹D¶êº¡R1                 TW00001009T1  2018/06/21    ¤W¥«   \n",
       " 25785  01010T¡@¨Ê«°¼Ö´IR1                 TW00001010T9  2018/12/05    ¤W¥«   \n",
       " \n",
       "               4        5     6  \n",
       " 0        ²£·~§O  CFICode  ³Æµù  \n",
       " 1          ªÑ²¼     ªÑ²¼  ªÑ²¼  \n",
       " 2      ¤ôªd¤u·~   ESVUFR   NaN  \n",
       " 3      ¤ôªd¤u·~   ESVUFR   NaN  \n",
       " 4      ¤ôªd¤u·~   ESVUFR   NaN  \n",
       " ...         ...      ...   ...  \n",
       " 25781       NaN   CBCIXU   NaN  \n",
       " 25782       NaN   CBCIXU   NaN  \n",
       " 25783       NaN   CBCIXU   NaN  \n",
       " 25784       NaN   CBCIXU   NaN  \n",
       " 25785       NaN   CBCIXU   NaN  \n",
       " \n",
       " [25786 rows x 7 columns]]"
      ]
     },
     "execution_count": 2,
     "metadata": {},
     "output_type": "execute_result"
    }
   ],
   "source": [
    "pd.read_html('https://isin.twse.com.tw/isin/C_public.jsp?strMode=2', skiprows=[1])"
   ]
  }
 ],
 "metadata": {
  "kernelspec": {
   "display_name": "Python 3 (ipykernel)",
   "language": "python",
   "name": "python3"
  },
  "language_info": {
   "codemirror_mode": {
    "name": "ipython",
    "version": 3
   },
   "file_extension": ".py",
   "mimetype": "text/x-python",
   "name": "python",
   "nbconvert_exporter": "python",
   "pygments_lexer": "ipython3",
   "version": "3.8.10"
  }
 },
 "nbformat": 4,
 "nbformat_minor": 5
}
